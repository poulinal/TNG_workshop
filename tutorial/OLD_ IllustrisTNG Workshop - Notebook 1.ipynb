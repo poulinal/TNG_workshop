{
 "cells": [
  {
   "cell_type": "markdown",
   "id": "beb6f17b",
   "metadata": {},
   "source": [
    "# Workshop 3: Exploring IllustrisTNG simulations to derive observationally comparable star formation rates and metallicities\n",
    "\n",
    "## Notebook 1: IllustrisTNG API and downloading data\n",
    "\n",
    "In this notebook, you will be introduced to the different data types availbale for the TNG simulations, and how to use the TNG API to download the data you need. If you haven't download iapi_TNG.py here: https://github.com/bryannemcd/TNG_workshop/blob/main/iapi_TNG.py\n",
    "\n",
    "IMPORTANT: You will need to update iapi_TNG.py on your machine with the API key you requested from the TNG website. If you do not have an API key, request one here: https:/www.tng-project.org/users/register/\n",
    "\n",
    "Below, you will find several exercises to get practice working with the different data types available. There are also 'extensions,' prompts for you to explore data that is aligned with your interests."
   ]
  },
  {
   "cell_type": "code",
   "execution_count": null,
   "id": "9c663301",
   "metadata": {},
   "outputs": [],
   "source": [
    "import iapi_TNG as iapi\n",
    "#this package contains useful functions for downloading the neccessary data\n",
    "#make sure you have edited iapi_TNG.py to include your personal API key\n",
    "import numpy as np\n",
    "import h5py #most TNG data is downloaded as hdf5 files\n",
    "import matplotlib.pyplot as plt\n",
    "import os.path\n",
    "\n",
    " \n",
    "baseUrl = 'http://www.tng-project.org/api/'\n"
   ]
  },
  {
   "cell_type": "markdown",
   "id": "c87a6749",
   "metadata": {},
   "source": [
    "### General simulation data\n",
    "\n",
    "Using the TNG API, we can explore basic information about the simulations available. "
   ]
  },
  {
   "cell_type": "code",
   "execution_count": null,
   "id": "b2339af3",
   "metadata": {},
   "outputs": [],
   "source": [
    "####EDIT THIS FOR YOUR MACHINE#####\n",
    "dirc ='/path/to/directory/'\n",
    "#dirc='/projectnb/res-star/TNG_workshop/'\n",
    "\n",
    "###specify which simulation you want to explore###\n",
    "sim='TNG100-1'\n",
    "\n",
    "\"\"\"\n",
    "TNG100-1 is the highest resolution simulation in the 100 Mpc simulation box\n",
    "TNG50-1 is the highest resolution available in a 50 Mpc box\n",
    "TNG300-1 is the largest volume simulation (300 Mpc)\n",
    "Lower resolutions are available with -N replacing -1, allowing for testing resolution dependency\n",
    "'Dark' simulations are also available: these are dark-matter only runs\n",
    "Subboxes are availble that provide higher time resolution\n",
    "For the exercises in this worrkshop, you will need to use a baryonic simulation, we recommend TNG100-1, TNG50-1, or TNG300-1\n",
    "Check all available simulations by uncommenting the line below:\n",
    "\"\"\"\n",
    "r=iapi.get(baseUrl)\n",
    "#print([sim['name'] for sim in r['simulations']])"
   ]
  },
  {
   "cell_type": "code",
   "execution_count": null,
   "id": "74a7929f",
   "metadata": {},
   "outputs": [],
   "source": [
    "#check the properties of the simulation you have selected\n",
    "simUrl = baseUrl+sim\n",
    "print(simUrl) #view the simulation data in your browser by following the URL (make sure you are logged in!)\n",
    "simdata = iapi.get(simUrl)\n",
    "print(simdata['description'])\n",
    "\n",
    "##uncomment line below to see all the simulation-level information available, or follow the simUrl to view in browser\n",
    "#print(simdata.keys())\n"
   ]
  },
  {
   "cell_type": "markdown",
   "id": "b6fd8925",
   "metadata": {},
   "source": [
    "#### Exercise (don't skip!): Find value of Hubble's constant used in the simulation you chose to explore\n",
    "In simulations, units often include 'little h' or Hubble's constant divided by 100.\n",
    "\n",
    "In these simulations, the value of h is stored in the simulation data as the 'hubble' key."
   ]
  },
  {
   "cell_type": "code",
   "execution_count": null,
   "id": "db3f1d5b",
   "metadata": {},
   "outputs": [],
   "source": [
    "###Uncomment and complete this line###\n",
    "#h=\n",
    "print(h)\n",
    "##Hint: should find h=0.6774"
   ]
  },
  {
   "cell_type": "markdown",
   "id": "07eec44e",
   "metadata": {},
   "source": [
    "### Group catalogs\n",
    "\n",
    "Group catalogs contain properies of all identified halos or subhalos (galaxies) in a given snapshot. These are good for obtaining masses, positions, and other global properties. You can check out details about the available fields here: https://www.tng-project.org/data/docs/specifications/#sec2 \n",
    "\n",
    "In iapi_TNG there are two similar functions that obtain a field for all subhalos or all halos in a given simulation at a given snapshot:\n",
    "\n",
    "> getSubhaloField(field, simulation='TNG100-1', snapshot=99, fileName='tempCat', rewriteFile=1)\n",
    "\n",
    "> getHaloField(field, simulation='TNG100-1', snapshot=99, fileName='tempCat', rewriteFile=1)\n",
    "\n",
    "- field (str): name of field to be returned from the table linked above, e.g. 'SubhaloPos'\n",
    "- simulation (str): name of simulation, e.g. 'TNG100-1'\n",
    "- snapshot (int): snapshot to pull data from. For TNG, snapshot=99 is z=0, which is the default\n",
    "- fileName (str): path to the file where you want to save the data, recommended to avoid repeated API requests\n",
    "- rewriteFile (0 or 1): if 0 (recommended), will attempt to pull from an existing file (fileName) before downloading; if 1 will download and overwrite\n",
    "\n",
    "Now let's fetch the fields we will want for our later analysis"
   ]
  },
  {
   "cell_type": "code",
   "execution_count": null,
   "id": "76b0b3c7",
   "metadata": {},
   "outputs": [],
   "source": [
    "#the flag field indicates whether a subhalo is cosmological in origin\n",
    "#you will generally only want to use subhalos that have flag=1\n",
    "flag=iapi.getSubhaloField('SubhaloFlag',simulation=sim,fileName=dirc+'catalogs/SubhaloFlag',rewriteFile=0)"
   ]
  },
  {
   "cell_type": "code",
   "execution_count": null,
   "id": "af35be5e",
   "metadata": {},
   "outputs": [],
   "source": [
    "#fetch the positions in case we want them later\n",
    "pos=iapi.getSubhaloField('SubhaloPos',fileName='catalogs/SubhaloPos',rewriteFile=0)\n"
   ]
  },
  {
   "cell_type": "code",
   "execution_count": null,
   "id": "ed48686f",
   "metadata": {},
   "outputs": [],
   "source": [
    "#let's fetch a field that will tell us about the mass of the galaxy\n",
    "#SubhaloMassType gives the total mass of all bound particles, separated by particle type\n",
    "mass=iapi.getSubhaloField('SubhaloMassType',simulation=sim,fileName=dirc+'catalogs/MassType',rewriteFile=0)\n",
    "print(mass.shape)\n",
    "\n",
    "#note that there are 6 entries for each subhalo, one for each particle type:\n",
    "#0 - gas\n",
    "#1 - dark matter\n",
    "#2 - unused\n",
    "#3 - tracers (you can ignore these)\n",
    "#4 - stars/wind\n",
    "#5 - black holes\n",
    "\n",
    "#Pull the stellar mass: \n",
    "stellar_mass=mass[:,4]\n",
    "\n",
    "#check the subhalo catalog for the default units, convert into stellar masses\n",
    "stellar_mass=stellar_mass*10**10/h\n",
    "#print(min(stellar_mass[np.nonzero(stellar_mass)]))\n",
    "\n",
    "#running into an error? did you define h above?"
   ]
  },
  {
   "cell_type": "markdown",
   "id": "169f10ab",
   "metadata": {},
   "source": [
    "#### Exercise:\n",
    "\n",
    "There are several other fields relating to galaxy mass. Review those found at the link above and fetch at least one other field relating to mass. Later, we will test the effect of using other definitions of mass on the global star formation main sequence. Generally, you will want to use a mass that is most comparable to how mass was measured in observations you want to compare to.\n"
   ]
  },
  {
   "cell_type": "code",
   "execution_count": null,
   "id": "37753f17",
   "metadata": {},
   "outputs": [],
   "source": [
    "### Pull an additional stellar mass field ###"
   ]
  },
  {
   "cell_type": "code",
   "execution_count": null,
   "id": "f0dca686",
   "metadata": {},
   "outputs": [],
   "source": [
    "sfr_inst = iapi.getSubhaloField('SubhaloSFR',simulation = sim,fileName=dirc+'SubhaloSFR',rewriteFile=0)\n",
    "#the subhalo catalog includes SubhaloSFR, which is the sum of SFRs over all gas particles bound to the subhalo\n",
    "#this is NOT directly comparable to SFRs obtained from observations, \n",
    "#because observational tracers generally detect already formed stars, not stars about to be formed\n",
    "\n",
    "#if we want to get more comparable SFRs, we'll have to dig into particle data or merger trees"
   ]
  },
  {
   "cell_type": "markdown",
   "id": "994ddd38",
   "metadata": {},
   "source": [
    "#### Extension: Metallicities\n",
    "Interested in metallicities? Reveiw the fields availalbe in the data specifications. Make sure to scroll all the way through, there are many different metallicity fields, based on both stars and gas. "
   ]
  },
  {
   "cell_type": "code",
   "execution_count": null,
   "id": "410251e5",
   "metadata": {},
   "outputs": [],
   "source": [
    "### Download metallicity fields ###"
   ]
  },
  {
   "cell_type": "code",
   "execution_count": null,
   "id": "853b1bfa",
   "metadata": {},
   "outputs": [],
   "source": [
    "#process the data to make our galaxy catalog\n",
    "#it's useful to keep track of the subhalo ID (subID), the index into the fields\n",
    "subID=np.arange(0,len(flag))\n",
    "\n",
    "#make cuts based on flag, and any other cuts to generate your sample\n",
    "wh_incl=np.nonzero((flag==1) & (stellar_mass>10**8))\n",
    "#to make additional cuts, add additional criteria to the line above \n",
    "#e.g. wh_incl=np.nonzero((flag==1) & (stellar_mass>masscut))\n",
    "\n",
    "#Now store fields for our sample in a dictionary\n",
    "\n",
    "###Update with any other fields you would like to store###\n",
    "\n",
    "IDs=subID[wh_incl]\n",
    "pos_cut =pos[wh_incl]\n",
    "s_mass_cut=stellar_mass[wh_incl]\n",
    "sfr_i_cut = sfr_inst[wh_incl]\n",
    "\n",
    "\n",
    "galcat = {\n",
    "    'subID' : IDs,\n",
    "    'pos' : pos_cut,\n",
    "    'M_*' : s_mass_cut,\n",
    "    'SFR_inst': sfr_i_cut\n",
    "}\n",
    "\n",
    "#save the galaxy catalog for later use\n",
    "np.save(dirc+'galcat', galcat)\n"
   ]
  },
  {
   "cell_type": "markdown",
   "id": "2e1fc49c",
   "metadata": {},
   "source": [
    "### Merger Trees\n",
    "\n",
    "Tracing a subhalo through cosmic time can be complicated by the major and minor mergers that ultimately form a z=0 galaxy. The merger trees trace the most massive progenitor of a subhalos through previous snapshots. See the TNG data specifications for more information: https://www.tng-project.org/data/docs/specifications/#sec2\n",
    "\n",
    "In this workshop, we will be using the SubLink merger trees.\n",
    "\n",
    "iapi_TNG contains the function gettree(snapnum,subID), which obtains the tree for a given galaxy. The trees contain all the fields in the Halo and Subhalo group catalogs, for each snapshot. Subhalo information will always be for the progenitor of the subID at snapnum. The group/halo of a subhalo may change, so the group information in previous snapshots may not be for the group the subhalo is a member of at snapnum.\n",
    "\n",
    "getredshift(snapnum) is another useful function in iapi_TNG. This returns the redfshift of a given snapshot. "
   ]
  },
  {
   "cell_type": "code",
   "execution_count": null,
   "id": "574dfaf5",
   "metadata": {},
   "outputs": [],
   "source": [
    "#Let's explore the history of a subhalo in the top middle of our sample\n",
    "#galaxy indices are very roughly ordered from largest to smallest\n",
    "sub=IDs[round(len(IDs)/2)]\n",
    "print(sub)\n",
    "#sub = np.random.choice(IDs)\n",
    "#print(sub)\n",
    "\n",
    "sub_ind= np.where(IDs==sub)[0][0]\n",
    "print(sub_ind)\n",
    "print(pos[sub_ind])\n",
    "subTreeFile = iapi.gettree(99,sub)\n",
    "\n",
    "#open the hdf5 file that contains the tree\n",
    "subTree= h5py.File(subTreeFile,'r')\n",
    "\n",
    "#What fields are available?\n",
    "print(subTree.keys())\n"
   ]
  },
  {
   "cell_type": "code",
   "execution_count": null,
   "id": "3ba9e6c0",
   "metadata": {},
   "outputs": [],
   "source": [
    "#pull the snapshot numbers that correspond to each entry in each of the fields for this tree\n",
    "snaps = subTree['SnapNum'][:]\n",
    "print(snaps[0])\n",
    "#notice how the first entry corresponds to z=0! The latest entries are first, while the earliest entries are last\n",
    "print(snaps[-1])\n",
    "#Some subhalos have shorter merger trees than others\n",
    "#If the random subhalo you selected earlier has a short merger tree (earliest snapshot > ~70), rerun the previous block"
   ]
  },
  {
   "cell_type": "code",
   "execution_count": null,
   "id": "83006beb",
   "metadata": {},
   "outputs": [],
   "source": [
    "#What redshift does the earliest snapshot correspond to?\n",
    "print(iapi.getredshift(snaps[-1]))"
   ]
  },
  {
   "cell_type": "code",
   "execution_count": null,
   "id": "03541b74",
   "metadata": {},
   "outputs": [],
   "source": [
    "#construct an array of redshifts corresponding to snaps\n",
    "z = iapi.getredshift(snaps)\n",
    "#print(z)"
   ]
  },
  {
   "cell_type": "markdown",
   "id": "717d31f6",
   "metadata": {},
   "source": [
    "#### Exercise: Construct a plot of star formation rate versus redshift for this subhalo\n"
   ]
  },
  {
   "cell_type": "code",
   "execution_count": null,
   "id": "d583ada1",
   "metadata": {},
   "outputs": [],
   "source": [
    "### Plot SFR versus redshift for this subhalo ###\n",
    "#hint: pull the SubhaloSFR field from the merger tree first\n",
    "\n"
   ]
  },
  {
   "cell_type": "markdown",
   "id": "583965f1",
   "metadata": {},
   "source": [
    "#### Extension: Plot other properties versus redshift for this subhalo\n",
    "What other properties would be interested to explore as a function of redshift?"
   ]
  },
  {
   "cell_type": "code",
   "execution_count": null,
   "id": "57c32355",
   "metadata": {},
   "outputs": [],
   "source": [
    "### Extension ###"
   ]
  },
  {
   "cell_type": "markdown",
   "id": "9d69cc8c",
   "metadata": {},
   "source": [
    "### Particle Data\n",
    "Now, we can download some particle data that will allow us to compute luminosity-weighted ages and time-averaged star formation rates for a galaxy. Full snapshots contain way more data than we need, so we can instead pull the parameters we want from 'cutouts' - files that contain data for all particles bound to a subhalo."
   ]
  },
  {
   "cell_type": "code",
   "execution_count": null,
   "id": "aa760a46",
   "metadata": {},
   "outputs": [],
   "source": [
    "parttype='stars'\n",
    "particle_fields = 'Coordinates,Masses,GFM_Metallicity,GFM_StellarFormationTime,GFM_InitialMass,GFM_StellarPhotometrics'\n",
    "#Note that for time-averaged SFR calculations, the initial mass of a star should be used\n",
    "\n",
    "cut_file = iapi.getSubcutout(sub, parttype, particle_fields, sim=sim, snapnum=99, fName=dirc+'cutouts/'+parttype+'_'+str(sub))\n",
    "print(cut_file)\n",
    "\n",
    "#running into issues? follow the sub_url that getSubcutout prints to check if a cutout exists for this subhalo"
   ]
  },
  {
   "cell_type": "markdown",
   "id": "f1a66635",
   "metadata": {},
   "source": [
    "### Supplementary Data Catalogs\n",
    "Rather than instantaneous star formation rates from gas particles, a more observationally-comparable measure is time-averaged star formation rates. Later in this workshop we will cover how to obtain these yourself, but for now we can make use of a supplementary catalog: https://www.tng-project.org/data/docs/specifications/#sec5b"
   ]
  },
  {
   "cell_type": "code",
   "execution_count": null,
   "id": "f8d7f7ed",
   "metadata": {
    "scrolled": true
   },
   "outputs": [],
   "source": [
    "#first download the catalog for the simulation of your choice \n",
    "#note that some catalogs are only available for certain simulations\n",
    "#this is a large file, it may take awhile to download\n",
    "SFRf=dirc+'SubhaloSFR_ta'\n",
    "if os.path.exists(SFRf): sfr_cat=SFRf+'.hdf5'\n",
    "else: sfr_cat = iapi.get('https://www.tng-project.org/api/'+sim+'/files/star_formation_rates.hdf5', fName=SFRf)\n",
    "\n"
   ]
  },
  {
   "cell_type": "code",
   "execution_count": null,
   "id": "698b99a5",
   "metadata": {},
   "outputs": [],
   "source": [
    "###which snapshot are you interested in? ###\n",
    "snapN=99 #z=0\n",
    "\n",
    "with h5py.File(sfr_cat,'r') as f:\n",
    "    f_N =f['Snapshot_'+str(snapN)]\n",
    "    print(f_N.keys())\n",
    "    #note that there are several options\n",
    "    #there are SFRs that are calculated within certain apertures\n",
    "    #and SFRs calculated over different timescales\n",
    "    #when comparing simulations to observations, it's important to use a timescale comparable to the observational tracer\n",
    "    #e.g. Halpha roughly traces 10Myrs\n",
    "    SFR_subind=np.asarray(f_N['SubfindID'].astype('int'))\n",
    "    SFR_all_10=np.asarray(f_N['SFR_MsunPerYrs_in_all_10Myrs'][:])\n",
    "\n",
    "\n",
    "#make an array of SFRs for our sample\n",
    "SFR_10=np.empty(len(IDs))\n",
    "for i in range(0,len(IDs)):\n",
    "    wh=np.nonzero((SFR_subind==IDs[i]))\n",
    "    try: SFR_10[i]=SFR_all_10[wh]\n",
    "    #not all galaxies in our sample may have SFRs computed in this catalog\n",
    "    except: \n",
    "        SFR_10[i]=np.nan\n",
    "    "
   ]
  },
  {
   "cell_type": "markdown",
   "id": "b9845bbe",
   "metadata": {},
   "source": [
    "#### Extension: Edit the code above to use a different aperature, or save additional timescales"
   ]
  },
  {
   "cell_type": "code",
   "execution_count": null,
   "id": "6c46ef91",
   "metadata": {},
   "outputs": [],
   "source": [
    "### Extension ###"
   ]
  },
  {
   "cell_type": "code",
   "execution_count": null,
   "id": "e9e8cb0a",
   "metadata": {},
   "outputs": [],
   "source": [
    "#now let's update our galcat\n",
    "galcat['SFR_all_10']=SFR_10\n",
    "### add any other fields you want to save ###\n",
    "np.save(dirc+'galcat', galcat)"
   ]
  },
  {
   "cell_type": "code",
   "execution_count": null,
   "id": "d9f0f5cf",
   "metadata": {},
   "outputs": [],
   "source": []
  }
 ],
 "metadata": {
  "kernelspec": {
   "display_name": "Python 3 (ipykernel)",
   "language": "python",
   "name": "python3"
  },
  "language_info": {
   "codemirror_mode": {
    "name": "ipython",
    "version": 3
   },
   "file_extension": ".py",
   "mimetype": "text/x-python",
   "name": "python",
   "nbconvert_exporter": "python",
   "pygments_lexer": "ipython3",
   "version": "3.10.12"
  }
 },
 "nbformat": 4,
 "nbformat_minor": 5
}
